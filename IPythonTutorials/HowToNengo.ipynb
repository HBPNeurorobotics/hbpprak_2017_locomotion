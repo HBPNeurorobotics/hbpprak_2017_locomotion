{
 "cells": [
  {
   "cell_type": "markdown",
   "metadata": {
    "deletable": true,
    "editable": true
   },
   "source": [
    "# How To Nengo\n",
    "---\n",
    "\n",
    "## Installation\n",
    "\n",
    "Set up a virtual environment (https://virtualenv.pypa.io/en/stable/) instead of installing nengo locally. This avoids problems with installed packages. <b>$venv_name will be the name of the virtual enviroment you create</b>.\n",
    "\n",
    "```\n",
    "virtualenv $venv_name  \n",
    "source $venv_name/bin/activate\n",
    "```\n",
    "\n",
    "this will activate the virtual enviroment, ($venv_name) will appear left of the prompt\n",
    "\n",
    "### Install nengo\n",
    "\n",
    "```\n",
    "pip install nengo \n",
    "pip install nengo_gui\n",
    "```\n",
    "\n",
    "For more information see http://nengo.ai/download\n",
    "\n",
    "### Install modules needed for usage with ros\n",
    "\n",
    "Because it is a fresh installation a lot of other modules are missing\n",
    "\n",
    "```\n",
    "source /opt/ros/indigo/setup.bash (indigo or other ros distribution) \n",
    "pip install pyyaml \n",
    "pip install rospkg \n",
    "pip install catkin_pkg\n",
    "```"
   ]
  },
  {
   "cell_type": "markdown",
   "metadata": {
    "deletable": true,
    "editable": true
   },
   "source": [
    "## Nengo and Ros\n",
    "\n",
    "In order to use Nengo with ros, you'll also have to make changes in the main.py at $venv_name/lib/python2.7/site-packages/nengo_gui\n",
    "\n",
    "```\n",
    "import rospy\n",
    "```\n",
    "\n",
    "and add the following right before s.start() is called\n",
    "\n",
    "```\n",
    "rospy.init_node('nengo_ros')\n",
    "```\n",
    "\n",
    "Only make those changes if you want to use Nengo with ros! Also see: https://github.com/nengo/nengo_gui/issues/827\n",
    "\n",
    "\n",
    "> ### Start Roscore (YOU DON'T NEED THIS WHEN USING THE NRP)\n",
    ">\n",
    "> Now before starting negno, you'll have to run roscore in another terminal in the virtual enviroment\n",
    ">\n",
    "> ```\n",
    "> source $venv_name/bin/activate \n",
    "> roscore\n",
    "> ```\n",
    ">\n",
    "\n",
    "### Start Nengo\n",
    "\n",
    "```\n",
    "source $venv_name/bin/activate \n",
    "nengo\n",
    "```\n",
    "\n",
    "You can now publish rostopics via nengo / python!\n",
    "\n",
    "### ROS: Publisher & Subscriber\n",
    "\n",
    "Use python to publish rostopics. \n",
    "http://wiki.ros.org/ROS/Tutorials/WritingPublisherSubscriber%28python%29\n"
   ]
  },
  {
   "cell_type": "markdown",
   "metadata": {
    "deletable": true,
    "editable": true
   },
   "source": [
    "## Nengo Tutorial\n",
    "\n",
    "There is a build in tutorial with a lot of examples at $venv_name/lib/python2.7/site-packages/nengo_gui/examples/tutorial/\n",
    "\n",
    "```\n",
    "nengo $venv_name/lib/python2.7/site-packages/nengo_gui/examples/tutorial/00-intro.py\n",
    "```\n",
    "\n",
    "or any other number to start it."
   ]
  },
  {
   "cell_type": "code",
   "execution_count": null,
   "metadata": {
    "collapsed": true,
    "deletable": true,
    "editable": true
   },
   "outputs": [],
   "source": []
  }
 ],
 "metadata": {
  "kernelspec": {
   "display_name": "Python 2",
   "language": "python",
   "name": "python2"
  },
  "language_info": {
   "codemirror_mode": {
    "name": "ipython",
    "version": 2
   },
   "file_extension": ".py",
   "mimetype": "text/x-python",
   "name": "python",
   "nbconvert_exporter": "python",
   "pygments_lexer": "ipython2",
   "version": "2.7.12"
  }
 },
 "nbformat": 4,
 "nbformat_minor": 2
}
